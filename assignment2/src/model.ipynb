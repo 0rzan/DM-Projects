{
 "cells": [
  {
   "cell_type": "code",
   "execution_count": 1,
   "metadata": {},
   "outputs": [],
   "source": [
    "import pandas as pd\n",
    "import ast\n",
    "from sklearn.preprocessing import MultiLabelBinarizer\n",
    "from sklearn.model_selection import train_test_split, RandomizedSearchCV\n",
    "from sklearn.linear_model import LogisticRegression\n",
    "from sklearn.metrics import accuracy_score, hamming_loss\n",
    "from sklearn.multioutput import MultiOutputClassifier\n",
    "from sklearn.ensemble import RandomForestClassifier\n",
    "from sklearn.pipeline import Pipeline"
   ]
  },
  {
   "cell_type": "code",
   "execution_count": 6,
   "metadata": {},
   "outputs": [
    {
     "data": {
      "text/html": [
       "<div>\n",
       "<style scoped>\n",
       "    .dataframe tbody tr th:only-of-type {\n",
       "        vertical-align: middle;\n",
       "    }\n",
       "\n",
       "    .dataframe tbody tr th {\n",
       "        vertical-align: top;\n",
       "    }\n",
       "\n",
       "    .dataframe thead th {\n",
       "        text-align: right;\n",
       "    }\n",
       "</style>\n",
       "<table border=\"1\" class=\"dataframe\">\n",
       "  <thead>\n",
       "    <tr style=\"text-align: right;\">\n",
       "      <th></th>\n",
       "      <th>id</th>\n",
       "      <th>target</th>\n",
       "      <th>similar</th>\n",
       "    </tr>\n",
       "  </thead>\n",
       "  <tbody>\n",
       "    <tr>\n",
       "      <th>0</th>\n",
       "      <td>1416989.txt</td>\n",
       "      <td>[K.4.3, I.2.9, I.6.5, J.1]</td>\n",
       "      <td>[[I.2], [J.1], [K.5.2, J.4, K.4.m], [J.1, H.3....</td>\n",
       "    </tr>\n",
       "    <tr>\n",
       "      <th>1</th>\n",
       "      <td>580106.txt</td>\n",
       "      <td>[H.3.5, D.3.2, I.7.2]</td>\n",
       "      <td>[[D.3.4, D.3.2, H.3.5, I.7.2], [D.3.2, H.3.4, ...</td>\n",
       "    </tr>\n",
       "    <tr>\n",
       "      <th>2</th>\n",
       "      <td>1516665.txt</td>\n",
       "      <td>[H.2.8, J.3]</td>\n",
       "      <td>[[I.6.5, I.2.4, I.5.3, J.3], [H.3.5, H.3.4, J....</td>\n",
       "    </tr>\n",
       "    <tr>\n",
       "      <th>3</th>\n",
       "      <td>873827.txt</td>\n",
       "      <td>[J.1, I.2.8, I.6.3]</td>\n",
       "      <td>[[F.2.2, J.1, J.6], [I.2.8, F.2.2, I.6.5], [F....</td>\n",
       "    </tr>\n",
       "    <tr>\n",
       "      <th>4</th>\n",
       "      <td>1755942.txt</td>\n",
       "      <td>[D.4.6]</td>\n",
       "      <td>[[K.6.5, C.2.0, C.5.3, H.4.3], [D.4.6], [D.2.1...</td>\n",
       "    </tr>\n",
       "  </tbody>\n",
       "</table>\n",
       "</div>"
      ],
      "text/plain": [
       "            id                      target  \\\n",
       "0  1416989.txt  [K.4.3, I.2.9, I.6.5, J.1]   \n",
       "1   580106.txt       [H.3.5, D.3.2, I.7.2]   \n",
       "2  1516665.txt                [H.2.8, J.3]   \n",
       "3   873827.txt         [J.1, I.2.8, I.6.3]   \n",
       "4  1755942.txt                     [D.4.6]   \n",
       "\n",
       "                                             similar  \n",
       "0  [[I.2], [J.1], [K.5.2, J.4, K.4.m], [J.1, H.3....  \n",
       "1  [[D.3.4, D.3.2, H.3.5, I.7.2], [D.3.2, H.3.4, ...  \n",
       "2  [[I.6.5, I.2.4, I.5.3, J.3], [H.3.5, H.3.4, J....  \n",
       "3  [[F.2.2, J.1, J.6], [I.2.8, F.2.2, I.6.5], [F....  \n",
       "4  [[K.6.5, C.2.0, C.5.3, H.4.3], [D.4.6], [D.2.1...  "
      ]
     },
     "execution_count": 6,
     "metadata": {},
     "output_type": "execute_result"
    }
   ],
   "source": [
    "LABELS_TEST_PATH = '../data/DM2023_train_labels.tsv'\n",
    "data = pd.read_csv(LABELS_TEST_PATH, sep='\\t', header=None, names=['id', 'target', 'similar'], nrows=2000)\n",
    "\n",
    "data['target'] = data['target'].apply(ast.literal_eval)\n",
    "data['similar'] = data['similar'].apply(ast.literal_eval)\n",
    "\n",
    "data.head()"
   ]
  },
  {
   "cell_type": "code",
   "execution_count": 7,
   "metadata": {},
   "outputs": [
    {
     "data": {
      "text/plain": [
       "(   I.2  G.2.3  K.6.0  B.0  K.8.0  B.1.4  I.6.m  B.4  I.4.1  D.1.4  ...  H.5.m  \\\n",
       " 0    1      0      0    0      0      0      0    0      0      0  ...      0   \n",
       " 1    0      0      1    0      0      0      0    0      0      0  ...      0   \n",
       " 2    0      0      0    0      0      0      0    0      0      0  ...      0   \n",
       " 3    0      0      0    0      0      0      0    0      0      0  ...      0   \n",
       " 4    0      0      0    0      0      0      0    0      0      0  ...      0   \n",
       " \n",
       "    H.3.3  C.2.m  F.2.1  G.1.1  B.8.m  D.4.2  I.6.7  I.2.10  I.5.2  \n",
       " 0      1      0      0      0      0      0      0       0      0  \n",
       " 1      0      1      0      0      0      0      0       0      0  \n",
       " 2      1      0      0      0      0      0      0       0      0  \n",
       " 3      0      0      1      0      0      0      0       0      0  \n",
       " 4      1      0      0      0      0      1      0       0      0  \n",
       " \n",
       " [5 rows x 354 columns],\n",
       "    I.2  G.2.3  K.6.0  B.0  K.8.0  B.1.4  I.6.m  B.4  I.4.1  D.1.4  ...  H.5.m  \\\n",
       " 0    0      0      0    0      0      0      0    0      0      0  ...      0   \n",
       " 1    0      0      0    0      0      0      0    0      0      0  ...      0   \n",
       " 2    0      0      0    0      0      0      0    0      0      0  ...      0   \n",
       " 3    0      0      0    0      0      0      0    0      0      0  ...      0   \n",
       " 4    0      0      0    0      0      0      0    0      0      0  ...      0   \n",
       " \n",
       "    H.3.3  C.2.m  F.2.1  G.1.1  B.8.m  D.4.2  I.6.7  I.2.10  I.5.2  \n",
       " 0      0      0      0      0      0      0      0       0      0  \n",
       " 1      0      0      0      0      0      0      0       0      0  \n",
       " 2      0      0      0      0      0      0      0       0      0  \n",
       " 3      0      0      0      0      0      0      0       0      0  \n",
       " 4      0      0      0      0      0      0      0       0      0  \n",
       " \n",
       " [5 rows x 354 columns])"
      ]
     },
     "execution_count": 7,
     "metadata": {},
     "output_type": "execute_result"
    }
   ],
   "source": [
    "all_similar_codes = [code for sublist in data['similar'].tolist() for item in sublist for code in item]\n",
    "all_target_codes = [code for sublist in data['target'].tolist() for code in sublist]\n",
    "\n",
    "all_codes = list(set(all_similar_codes + all_target_codes))\n",
    "\n",
    "mlb = MultiLabelBinarizer(classes=all_codes)\n",
    "\n",
    "similar_encoded = mlb.fit_transform(data['similar'].apply(lambda x: [code for sublist in x for code in sublist]))\n",
    "\n",
    "target_encoded = mlb.transform(data['target'])\n",
    "\n",
    "X = pd.DataFrame(similar_encoded, columns=mlb.classes_)\n",
    "y = pd.DataFrame(target_encoded, columns=mlb.classes_)\n",
    "\n",
    "X.head(), y.head()"
   ]
  },
  {
   "cell_type": "code",
   "execution_count": 8,
   "metadata": {},
   "outputs": [
    {
     "data": {
      "text/plain": [
       "((1600, 354), (400, 354), (1600, 354), (400, 354))"
      ]
     },
     "execution_count": 8,
     "metadata": {},
     "output_type": "execute_result"
    }
   ],
   "source": [
    "X_train, X_test, y_train, y_test = train_test_split(X, y, test_size=0.2, random_state=42)\n",
    "\n",
    "X_train.shape, X_test.shape, y_train.shape, y_test.shape"
   ]
  },
  {
   "cell_type": "code",
   "execution_count": 10,
   "metadata": {},
   "outputs": [
    {
     "name": "stdout",
     "output_type": "stream",
     "text": [
      "Fitting 5 folds for each of 10 candidates, totalling 50 fits\n",
      "[CV] END clf__max_depth=10, clf__min_samples_leaf=1, clf__min_samples_split=5, clf__n_estimators=100; total time=  10.2s\n",
      "[CV] END clf__max_depth=10, clf__min_samples_leaf=1, clf__min_samples_split=5, clf__n_estimators=100; total time=  10.4s\n",
      "[CV] END clf__max_depth=10, clf__min_samples_leaf=1, clf__min_samples_split=5, clf__n_estimators=100; total time=  10.6s\n",
      "[CV] END clf__max_depth=10, clf__min_samples_leaf=1, clf__min_samples_split=5, clf__n_estimators=100; total time=  10.7s\n",
      "[CV] END clf__max_depth=10, clf__min_samples_leaf=1, clf__min_samples_split=5, clf__n_estimators=100; total time=  11.4s\n",
      "[CV] END clf__max_depth=None, clf__min_samples_leaf=1, clf__min_samples_split=2, clf__n_estimators=100; total time=  16.3s\n",
      "[CV] END clf__max_depth=None, clf__min_samples_leaf=1, clf__min_samples_split=2, clf__n_estimators=100; total time=  16.6s\n",
      "[CV] END clf__max_depth=None, clf__min_samples_leaf=1, clf__min_samples_split=2, clf__n_estimators=100; total time=  18.4s\n",
      "[CV] END clf__max_depth=None, clf__min_samples_leaf=1, clf__min_samples_split=2, clf__n_estimators=100; total time=  18.4s\n",
      "[CV] END clf__max_depth=None, clf__min_samples_leaf=1, clf__min_samples_split=2, clf__n_estimators=100; total time=  18.7s\n",
      "[CV] END clf__max_depth=None, clf__min_samples_leaf=4, clf__min_samples_split=5, clf__n_estimators=200; total time=  20.0s\n",
      "[CV] END clf__max_depth=None, clf__min_samples_leaf=4, clf__min_samples_split=5, clf__n_estimators=200; total time=  21.6s\n",
      "[CV] END clf__max_depth=None, clf__min_samples_leaf=4, clf__min_samples_split=2, clf__n_estimators=100; total time=  11.0s\n",
      "[CV] END clf__max_depth=None, clf__min_samples_leaf=4, clf__min_samples_split=2, clf__n_estimators=100; total time=  12.2s\n",
      "[CV] END clf__max_depth=None, clf__min_samples_leaf=4, clf__min_samples_split=2, clf__n_estimators=100; total time=  11.4s\n",
      "[CV] END clf__max_depth=None, clf__min_samples_leaf=4, clf__min_samples_split=5, clf__n_estimators=200; total time=  21.6s\n",
      "[CV] END clf__max_depth=None, clf__min_samples_leaf=4, clf__min_samples_split=5, clf__n_estimators=200; total time=  21.9s\n",
      "[CV] END clf__max_depth=None, clf__min_samples_leaf=4, clf__min_samples_split=5, clf__n_estimators=200; total time=  21.8s\n",
      "[CV] END clf__max_depth=None, clf__min_samples_leaf=4, clf__min_samples_split=2, clf__n_estimators=100; total time=  11.2s\n",
      "[CV] END clf__max_depth=10, clf__min_samples_leaf=1, clf__min_samples_split=5, clf__n_estimators=200; total time=  24.8s\n",
      "[CV] END clf__max_depth=10, clf__min_samples_leaf=1, clf__min_samples_split=5, clf__n_estimators=200; total time=  24.2s\n",
      "[CV] END clf__max_depth=10, clf__min_samples_leaf=1, clf__min_samples_split=5, clf__n_estimators=200; total time=  24.4s\n",
      "[CV] END clf__max_depth=None, clf__min_samples_leaf=4, clf__min_samples_split=2, clf__n_estimators=100; total time=  12.0s\n",
      "[CV] END clf__max_depth=10, clf__min_samples_leaf=1, clf__min_samples_split=5, clf__n_estimators=200; total time=  25.2s\n",
      "[CV] END clf__max_depth=10, clf__min_samples_leaf=1, clf__min_samples_split=5, clf__n_estimators=200; total time=  25.0s\n",
      "[CV] END clf__max_depth=10, clf__min_samples_leaf=1, clf__min_samples_split=2, clf__n_estimators=200; total time=  26.7s\n",
      "[CV] END clf__max_depth=10, clf__min_samples_leaf=1, clf__min_samples_split=2, clf__n_estimators=200; total time=  25.5s\n"
     ]
    },
    {
     "name": "stderr",
     "output_type": "stream",
     "text": [
      "/home/orzan/studia/DM/assignment2/as2_env/lib/python3.11/site-packages/joblib/externals/loky/process_executor.py:752: UserWarning: A worker stopped while some jobs were given to the executor. This can be caused by a too short worker timeout or by a memory leak.\n",
      "  warnings.warn(\n"
     ]
    },
    {
     "name": "stdout",
     "output_type": "stream",
     "text": [
      "[CV] END clf__max_depth=10, clf__min_samples_leaf=1, clf__min_samples_split=2, clf__n_estimators=200; total time=  27.0s\n",
      "[CV] END clf__max_depth=10, clf__min_samples_leaf=1, clf__min_samples_split=2, clf__n_estimators=200; total time=  26.3s\n",
      "[CV] END clf__max_depth=10, clf__min_samples_leaf=1, clf__min_samples_split=2, clf__n_estimators=200; total time=  27.2s\n",
      "[CV] END clf__max_depth=None, clf__min_samples_leaf=2, clf__min_samples_split=2, clf__n_estimators=200; total time=  30.3s\n",
      "[CV] END clf__max_depth=None, clf__min_samples_leaf=2, clf__min_samples_split=2, clf__n_estimators=200; total time=  31.3s\n",
      "[CV] END clf__max_depth=None, clf__min_samples_leaf=2, clf__min_samples_split=2, clf__n_estimators=200; total time=  32.0s\n",
      "[CV] END clf__max_depth=None, clf__min_samples_leaf=2, clf__min_samples_split=2, clf__n_estimators=200; total time=  29.3s\n",
      "[CV] END clf__max_depth=20, clf__min_samples_leaf=2, clf__min_samples_split=10, clf__n_estimators=200; total time=  29.0s\n",
      "[CV] END clf__max_depth=None, clf__min_samples_leaf=2, clf__min_samples_split=2, clf__n_estimators=200; total time=  31.1s\n",
      "[CV] END clf__max_depth=20, clf__min_samples_leaf=2, clf__min_samples_split=10, clf__n_estimators=200; total time=  29.7s\n",
      "[CV] END clf__max_depth=20, clf__min_samples_leaf=2, clf__min_samples_split=10, clf__n_estimators=200; total time=  26.6s\n",
      "[CV] END clf__max_depth=None, clf__min_samples_leaf=2, clf__min_samples_split=5, clf__n_estimators=100; total time=  13.9s\n",
      "[CV] END clf__max_depth=20, clf__min_samples_leaf=2, clf__min_samples_split=10, clf__n_estimators=200; total time=  26.5s\n",
      "[CV] END clf__max_depth=20, clf__min_samples_leaf=2, clf__min_samples_split=10, clf__n_estimators=200; total time=  27.2s\n",
      "[CV] END clf__max_depth=None, clf__min_samples_leaf=2, clf__min_samples_split=5, clf__n_estimators=100; total time=  13.8s\n",
      "[CV] END clf__max_depth=None, clf__min_samples_leaf=2, clf__min_samples_split=5, clf__n_estimators=100; total time=  14.3s\n",
      "[CV] END clf__max_depth=None, clf__min_samples_leaf=2, clf__min_samples_split=5, clf__n_estimators=100; total time=  13.8s\n",
      "[CV] END clf__max_depth=None, clf__min_samples_leaf=1, clf__min_samples_split=5, clf__n_estimators=200; total time=  31.8s\n",
      "[CV] END clf__max_depth=None, clf__min_samples_leaf=1, clf__min_samples_split=5, clf__n_estimators=200; total time=  31.7s\n",
      "[CV] END clf__max_depth=None, clf__min_samples_leaf=1, clf__min_samples_split=5, clf__n_estimators=200; total time=  30.0s\n",
      "[CV] END clf__max_depth=None, clf__min_samples_leaf=2, clf__min_samples_split=5, clf__n_estimators=100; total time=   8.9s\n",
      "[CV] END clf__max_depth=None, clf__min_samples_leaf=1, clf__min_samples_split=5, clf__n_estimators=200; total time=  27.5s\n",
      "[CV] END clf__max_depth=None, clf__min_samples_leaf=1, clf__min_samples_split=5, clf__n_estimators=200; total time=  27.1s\n",
      "Accuracy: 0.0025\n",
      "Hamming Loss: 0.00759180790960452\n"
     ]
    }
   ],
   "source": [
    "pipeline = Pipeline([\n",
    "    ('clf', RandomForestClassifier(random_state=42))\n",
    "])\n",
    "\n",
    "# Define hyperparameters to search\n",
    "param_grid = {\n",
    "    'clf__n_estimators': [100, 200, 300],\n",
    "    'clf__max_depth': [None, 10, 20],\n",
    "    'clf__min_samples_split': [2, 5, 10],\n",
    "    'clf__min_samples_leaf': [1, 2, 4]\n",
    "}\n",
    "\n",
    "# Randomized search for hyperparameter optimization\n",
    "clf = RandomizedSearchCV(pipeline, param_distributions=param_grid, n_iter=10, cv=5, verbose=2, n_jobs=-1, random_state=42)\n",
    "clf.fit(X_train, y_train)\n",
    "\n",
    "# Predict\n",
    "y_pred = clf.predict(X_test)\n",
    "\n",
    "# Calculate metrics\n",
    "accuracy = accuracy_score(y_test, y_pred)\n",
    "hamming = hamming_loss(y_test, y_pred)\n",
    "\n",
    "# Print metrics\n",
    "print(f'Accuracy: {accuracy}')\n",
    "print(f'Hamming Loss: {hamming}')\n",
    "# clf = MultiOutputClassifier(LogisticRegression()).fit(X_train, y_train)\n",
    "\n",
    "# y_pred = clf.predict(X_test)\n",
    "\n",
    "# accuracy = accuracy_score(y_test, y_pred)\n",
    "# hamming = hamming_loss(y_test, y_pred)\n",
    "\n",
    "# print(f'Accuracy: {accuracy}')\n",
    "# print(f'Hamming Loss: {hamming}')"
   ]
  }
 ],
 "metadata": {
  "kernelspec": {
   "display_name": "as2_env",
   "language": "python",
   "name": "python3"
  },
  "language_info": {
   "codemirror_mode": {
    "name": "ipython",
    "version": 3
   },
   "file_extension": ".py",
   "mimetype": "text/x-python",
   "name": "python",
   "nbconvert_exporter": "python",
   "pygments_lexer": "ipython3",
   "version": "3.11.2"
  }
 },
 "nbformat": 4,
 "nbformat_minor": 2
}
